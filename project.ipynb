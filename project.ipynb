{
 "cells": [
  {
   "cell_type": "markdown",
   "metadata": {
    "scrolled": true
   },
   "source": [
    "Project CPS 840 \n",
    "Awale Hassan - 500704868\n",
    "Shiqi Dong - \n",
    "\n",
    "\n",
    "The goal of this machine learning project is to import a dataset from Kaggle of Steam users and their video game library, compare these users with others and create a recomended game (that they have not already purchased) for them based on similar prefences.\n",
    "\n",
    "First steps is dealing with the raw data and pruning features. The initial format of the data set was as very different from the final data set we utilized. Come columns, not useful to us for our algorithm, had to be removed entirley.\n"
   ]
  },
  {
   "cell_type": "code",
   "execution_count": 60,
   "metadata": {},
   "outputs": [
    {
     "data": {
      "text/plain": [
       "11350"
      ]
     },
     "execution_count": 60,
     "metadata": {},
     "output_type": "execute_result"
    }
   ],
   "source": [
    "\n",
    "import numpy as np\n",
    "import matplotlib.pyplot as plt\n",
    "import pandas as pd \n",
    "from ast import literal_eval\n",
    "\n",
    "data1=pd.read_csv('steam-200k.csv', low_memory=False) #importing data set\n",
    "data2 = pd.read_csv('Steam_games.csv')  #supporting data set with steam game prices, to be cross refrenced for recomendation\n",
    "data1=data1.rename(columns = {'The Elder Scrolls V Skyrim':'game'}) #renaming columns to appropriate tittles\n",
    "data1=data1.rename(columns = {'151603712':'user'}) \n",
    "data1=data1.rename(columns = {'1.0':'playtime'})\n",
    "data1=data1.rename(columns = {'purchase':'status'})\n",
    "\n",
    "\n",
    "# here we removed the purchase column, but kept the information that it contains. This was done by combining it with the playtime column. \n",
    "#Now, users will no longer have an entry for both the purchase and playing a game, they will only have one single row. \n",
    "#Where as before, users would have one row entry for purchasing a game, and one row for actually playing it,\n",
    "#now if a user has less than an hour of playtime, then they have only purchased a game, but not played it.\n",
    "\n",
    "data1.playtime = data1.playtime + 1\n",
    "data1 = data1[(data1.status != 'purchase')]\n",
    "del data1['status']\n",
    "del data1['0']\n",
    "data1['game'] = data1['game'].str.lower()\n",
    "\n",
    "\n",
    "#Creating a list of all games\n",
    "gameList = []\n",
    "for gamename in data1['game']:\n",
    "    if not(gamename in gameList):\n",
    "        gameList.append(gamename)\n",
    "\n",
    "gameList.insert(0,'users') \n",
    "gameList.append('0') \n",
    "\n",
    "#creating a list of all users\n",
    "userList = []\n",
    "for user in data1['user']:\n",
    "    if not(user in userList):\n",
    "        userList.append(user)\n",
    "\n",
    "\n",
    "\n",
    "#translating the games into a dictionary matched to numbers, so that the dataset can replace the game strings with numbers\n",
    "#This allows us to transform the dataset into an array, easier to manipulate\n",
    "gameDictionary = {k: v for v, k in enumerate(gameList)}\n",
    "\n",
    " \n",
    "gameDictionary\n",
    "len(userList)"
   ]
  },
  {
   "cell_type": "code",
   "execution_count": null,
   "metadata": {},
   "outputs": [],
   "source": []
  },
  {
   "cell_type": "code",
   "execution_count": 32,
   "metadata": {},
   "outputs": [
    {
     "name": "stdout",
     "output_type": "stream",
     "text": [
      "3602\n"
     ]
    }
   ],
   "source": [
    "#crearing a new matrix, and filling it with the useful information from the initial dataset\n",
    "#users will be the first column, numbers translating to games will be the first row\n",
    "#individual cells will contain playtime for a specific user to a specific game\n",
    "#eg gameMatrix[x][y] will contain the play time for user gameMatrix[0][y] for the game gameMatrix[x][0]\n",
    "\n",
    "gameMatrix = np.zeros((len(userList)+1,len(gameList)+1))\n",
    "gameMatrix[1][:] = range(0,len(gameList)+1)\n",
    "i = 1\n",
    "for user in userList:\n",
    "    gameMatrix[i][0] = user\n",
    "    i=i+1\n",
    "\n",
    "checkUniqeUser = 151603712\n",
    "userIndex=1\n",
    "gameNumMatch = 0\n",
    "for index, row in data1.iterrows():\n",
    "    if not(row.user == checkUniqeUser):\n",
    "        if not(userIndex == 11349):\n",
    "            userIndex=userIndex+1\n",
    "    gameNumMatch = gameDictionary[row.game]\n",
    "    gameMatrix[userIndex][gameNumMatch] = row.playtime\n",
    "\n",
    "gameMatrix[1][1]\n",
    "print(len(gameList))"
   ]
  },
  {
   "cell_type": "code",
   "execution_count": 49,
   "metadata": {},
   "outputs": [],
   "source": [
    "#Our next step is a reduction in dimensionality. \n",
    "#As it currently stands, each and every single game in our list is treated as a single feature for users\n",
    "#This is very, very bad, as there are over 3600 games. So our users need their dimensions reduced to a usable size. \n",
    "from matplotlib.mlab import PCA\n",
    "import warnings\n",
    "warnings.filterwarnings(\"ignore\")\n",
    "results = PCA(gameMatrix)"
   ]
  },
  {
   "cell_type": "code",
   "execution_count": 61,
   "metadata": {},
   "outputs": [
    {
     "data": {
      "text/plain": [
       "(11351, 3603)"
      ]
     },
     "execution_count": 61,
     "metadata": {},
     "output_type": "execute_result"
    }
   ],
   "source": [
    "#Now that our data is sufficiently pruned, the ideal algorithm to use here would be K Nearest Neighbor\n",
    "#For any user we would like to recomend, we would find other users with similar libraries and play time in similar games\n",
    "#These would be our nearest neighbors. From there, we would find a game with substantial playtime that our nearest neighbors own, but the initial user does not\n",
    "\n",
    "gameMatrix.shape"
   ]
  },
  {
   "cell_type": "code",
   "execution_count": 53,
   "metadata": {},
   "outputs": [
    {
     "data": {
      "image/png": "[encoded data removed]",
      "text/plain": [
       "<Figure size 432x288 with 2 Axes>"
      ]
     },
     "metadata": {
      "needs_background": "light"
     },
     "output_type": "display_data"
    }
   ],
   "source": [
    "# THIS CODE IS FROM THE WEBSITE THE GLOWING PYTHON, ALL RIGHTS BELONG TO THEM\n",
    "#https://glowingpython.blogspot.com/2011/07/principal-component-analysis-with-numpy.html\n",
    "#Here we utilize their algorithm to reduce the demonsionality of our data. \n",
    "from numpy import mean,cov,double,cumsum,dot,linalg,array,rank\n",
    "from pylab import plot,subplot,axis,stem,show,figure\n",
    "\n",
    "def princomp(A):\n",
    " \"\"\" performs principal components analysis \n",
    "     (PCA) on the n-by-p data matrix A\n",
    "     Rows of A correspond to observations, columns to variables. \n",
    "\n",
    " Returns :  \n",
    "  coeff :\n",
    "    is a p-by-p matrix, each column containing coefficients \n",
    "    for one principal component.\n",
    "  score : \n",
    "    the principal component scores; that is, the representation \n",
    "    of A in the principal component space. Rows of SCORE \n",
    "    correspond to observations, columns to components.\n",
    "  latent : \n",
    "    a vector containing the eigenvalues \n",
    "    of the covariance matrix of A.\n",
    " \"\"\"\n",
    " # computing eigenvalues and eigenvectors of covariance matrix\n",
    " M = (A-mean(A.T,axis=1)).T # subtract the mean (along columns)\n",
    " [latent,coeff] = linalg.eig(cov(M)) # attention:not always sorted\n",
    " score = dot(coeff.T,M) # projection of the data in the new space\n",
    " return coeff,score,latent\n",
    "\n",
    "coeff, score, latent = princomp(gameMatrix.T)\n",
    "\n",
    "figure()\n",
    "subplot(121)\n",
    "# every eigenvector describe the direction\n",
    "# of a principal component.\n",
    "m = mean(gameMatrix,axis=1)\n",
    "plot([0, -coeff[0,0]*2]+m[0], [0, -coeff[0,1]*2]+m[1],'--k')\n",
    "plot([0, coeff[1,0]*2]+m[0], [0, coeff[1,1]*2]+m[1],'--k')\n",
    "plot(gameMatrix[0,:],gameMatrix[1,:],'ob') # the data\n",
    "axis('equal')\n",
    "subplot(122)\n",
    "# new data\n",
    "plot(score[0,:],score[1,:],'*g')\n",
    "axis('equal')\n",
    "show()"
   ]
  },
  {
   "cell_type": "code",
   "execution_count": 63,
   "metadata": {},
   "outputs": [
    {
     "data": {
      "text/plain": [
       "(11351, 3603)"
      ]
     },
     "execution_count": 63,
     "metadata": {},
     "output_type": "execute_result"
    }
   ],
   "source": [
    "gameMatrix.shape\n",
    "score.shape\n"
   ]
  },
  {
   "cell_type": "code",
   "execution_count": 65,
   "metadata": {},
   "outputs": [
    {
     "data": {
      "text/plain": [
       "array([[    0,  7718],\n",
       "       [    1, 11349],\n",
       "       [    2,   805],\n",
       "       ...,\n",
       "       [11348,  3496],\n",
       "       [11349,  8480],\n",
       "       [11350,  4354]])"
      ]
     },
     "execution_count": 65,
     "metadata": {},
     "output_type": "execute_result"
    }
   ],
   "source": [
    "from sklearn.neighbors import NearestNeighbors\n",
    "import numpy as np\n",
    "nbrs = NearestNeighbors(n_neighbors=2, algorithm='ball_tree').fit(gameMatrix)\n",
    "distances, indices = nbrs.kneighbors(gameMatrix)\n",
    "\n",
    "indices  "
   ]
  },
  {
   "cell_type": "code",
   "execution_count": 68,
   "metadata": {},
   "outputs": [
    {
     "data": {
      "text/plain": [
       "array([[0.00000000e+00, 1.22904431e-02],\n",
       "       [0.00000000e+00, 6.20937811e+03],\n",
       "       [0.00000000e+00, 6.41273353e-03],\n",
       "       ...,\n",
       "       [0.00000000e+00, 9.83743371e-01],\n",
       "       [0.00000000e+00, 3.79624136e+02],\n",
       "       [0.00000000e+00, 9.06617908e-03]])"
      ]
     },
     "execution_count": 68,
     "metadata": {},
     "output_type": "execute_result"
    }
   ],
   "source": [
    "distances"
   ]
  },
  {
   "cell_type": "code",
   "execution_count": null,
   "metadata": {},
   "outputs": [],
   "source": []
  }
 ],
 "metadata": {
  "kernelspec": {
   "display_name": "Python 3",
   "language": "python",
   "name": "python3"
  },
  "language_info": {
   "codemirror_mode": {
    "name": "ipython",
    "version": 3
   },
   "file_extension": ".py",
   "mimetype": "text/x-python",
   "name": "python",
   "nbconvert_exporter": "python",
   "pygments_lexer": "ipython3",
   "version": "3.7.0"
  }
 },
 "nbformat": 4,
 "nbformat_minor": 2
}
